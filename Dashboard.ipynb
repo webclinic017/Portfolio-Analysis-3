{
 "cells": [
  {
   "cell_type": "code",
   "execution_count": 1,
   "id": "82c997d9",
   "metadata": {},
   "outputs": [
    {
     "ename": "Exception",
     "evalue": "Section 'postgresql' not found in 'database.ini'.",
     "output_type": "error",
     "traceback": [
      "\u001b[1;31m---------------------------------------------------------------------------\u001b[0m",
      "\u001b[1;31mException\u001b[0m                                 Traceback (most recent call last)",
      "\u001b[1;32m<ipython-input-1-20fdfd4a1f52>\u001b[0m in \u001b[0;36m<module>\u001b[1;34m\u001b[0m\n\u001b[1;32m----> 1\u001b[1;33m \u001b[1;32mfrom\u001b[0m \u001b[0minterface\u001b[0m \u001b[1;32mimport\u001b[0m \u001b[0mUserInterface\u001b[0m\u001b[1;33m\u001b[0m\u001b[1;33m\u001b[0m\u001b[0m\n\u001b[0m\u001b[0;32m      2\u001b[0m \u001b[1;32mfrom\u001b[0m \u001b[0mscipy\u001b[0m\u001b[1;33m.\u001b[0m\u001b[0moptimize\u001b[0m \u001b[1;32mimport\u001b[0m \u001b[0mminimize\u001b[0m\u001b[1;33m\u001b[0m\u001b[1;33m\u001b[0m\u001b[0m\n\u001b[0;32m      3\u001b[0m \u001b[1;32mimport\u001b[0m \u001b[0malpaca_trade_api\u001b[0m \u001b[1;32mas\u001b[0m \u001b[0mtradeapi\u001b[0m\u001b[1;33m\u001b[0m\u001b[1;33m\u001b[0m\u001b[0m\n\u001b[0;32m      4\u001b[0m \u001b[1;32mimport\u001b[0m \u001b[0mipywidgets\u001b[0m \u001b[1;32mas\u001b[0m \u001b[0mwidgets\u001b[0m\u001b[1;33m\u001b[0m\u001b[1;33m\u001b[0m\u001b[0m\n\u001b[0;32m      5\u001b[0m \u001b[1;32mimport\u001b[0m \u001b[0mholoviews\u001b[0m \u001b[1;32mas\u001b[0m \u001b[0mhv\u001b[0m\u001b[1;33m\u001b[0m\u001b[1;33m\u001b[0m\u001b[0m\n",
      "\u001b[1;32m~\\project_1_stock_portfolio_forecasting\\Code\\interface.py\u001b[0m in \u001b[0;36m<module>\u001b[1;34m\u001b[0m\n\u001b[0;32m      8\u001b[0m \u001b[1;32mimport\u001b[0m \u001b[0mos\u001b[0m\u001b[1;33m\u001b[0m\u001b[1;33m\u001b[0m\u001b[0m\n\u001b[0;32m      9\u001b[0m \u001b[1;33m\u001b[0m\u001b[0m\n\u001b[1;32m---> 10\u001b[1;33m \u001b[1;32mclass\u001b[0m \u001b[0mUserInterface\u001b[0m\u001b[1;33m:\u001b[0m\u001b[1;33m\u001b[0m\u001b[1;33m\u001b[0m\u001b[0m\n\u001b[0m\u001b[0;32m     11\u001b[0m     \u001b[1;31m# Create a private instance of the Database class\u001b[0m\u001b[1;33m\u001b[0m\u001b[1;33m\u001b[0m\u001b[1;33m\u001b[0m\u001b[0m\n\u001b[0;32m     12\u001b[0m     \u001b[0m__database\u001b[0m \u001b[1;33m=\u001b[0m \u001b[0mDatabase\u001b[0m\u001b[1;33m(\u001b[0m\u001b[1;33m)\u001b[0m\u001b[1;33m\u001b[0m\u001b[1;33m\u001b[0m\u001b[0m\n",
      "\u001b[1;32m~\\project_1_stock_portfolio_forecasting\\Code\\interface.py\u001b[0m in \u001b[0;36mUserInterface\u001b[1;34m()\u001b[0m\n\u001b[0;32m     10\u001b[0m \u001b[1;32mclass\u001b[0m \u001b[0mUserInterface\u001b[0m\u001b[1;33m:\u001b[0m\u001b[1;33m\u001b[0m\u001b[1;33m\u001b[0m\u001b[0m\n\u001b[0;32m     11\u001b[0m     \u001b[1;31m# Create a private instance of the Database class\u001b[0m\u001b[1;33m\u001b[0m\u001b[1;33m\u001b[0m\u001b[1;33m\u001b[0m\u001b[0m\n\u001b[1;32m---> 12\u001b[1;33m     \u001b[0m__database\u001b[0m \u001b[1;33m=\u001b[0m \u001b[0mDatabase\u001b[0m\u001b[1;33m(\u001b[0m\u001b[1;33m)\u001b[0m\u001b[1;33m\u001b[0m\u001b[1;33m\u001b[0m\u001b[0m\n\u001b[0m\u001b[0;32m     13\u001b[0m \u001b[1;33m\u001b[0m\u001b[0m\n\u001b[0;32m     14\u001b[0m     \u001b[1;32mdef\u001b[0m \u001b[0m__init__\u001b[0m\u001b[1;33m(\u001b[0m\u001b[0mself\u001b[0m\u001b[1;33m)\u001b[0m\u001b[1;33m:\u001b[0m\u001b[1;33m\u001b[0m\u001b[1;33m\u001b[0m\u001b[0m\n",
      "\u001b[1;32m~\\project_1_stock_portfolio_forecasting\\Code\\database.py\u001b[0m in \u001b[0;36m__init__\u001b[1;34m(self, filename, section)\u001b[0m\n\u001b[0;32m     13\u001b[0m     \u001b[1;32mdef\u001b[0m \u001b[0m__init__\u001b[0m\u001b[1;33m(\u001b[0m\u001b[0mself\u001b[0m\u001b[1;33m,\u001b[0m \u001b[0mfilename\u001b[0m\u001b[1;33m=\u001b[0m\u001b[1;34m'database.ini'\u001b[0m\u001b[1;33m,\u001b[0m \u001b[0msection\u001b[0m\u001b[1;33m=\u001b[0m\u001b[1;34m'postgresql'\u001b[0m\u001b[1;33m)\u001b[0m\u001b[1;33m:\u001b[0m\u001b[1;33m\u001b[0m\u001b[1;33m\u001b[0m\u001b[0m\n\u001b[0;32m     14\u001b[0m         \u001b[1;31m# Create a new instance of the engine for querying the underlying database\u001b[0m\u001b[1;33m\u001b[0m\u001b[1;33m\u001b[0m\u001b[1;33m\u001b[0m\u001b[0m\n\u001b[1;32m---> 15\u001b[1;33m         \u001b[0mself\u001b[0m\u001b[1;33m.\u001b[0m\u001b[0m__engine\u001b[0m \u001b[1;33m=\u001b[0m \u001b[0mcreate_engine\u001b[0m\u001b[1;33m(\u001b[0m\u001b[0mself\u001b[0m\u001b[1;33m.\u001b[0m\u001b[0m__configuration\u001b[0m\u001b[1;33m.\u001b[0m\u001b[0mparse\u001b[0m\u001b[1;33m(\u001b[0m\u001b[0mfilename\u001b[0m\u001b[1;33m,\u001b[0m \u001b[0msection\u001b[0m\u001b[1;33m)\u001b[0m\u001b[1;33m)\u001b[0m\u001b[1;33m\u001b[0m\u001b[1;33m\u001b[0m\u001b[0m\n\u001b[0m\u001b[0;32m     16\u001b[0m \u001b[1;33m\u001b[0m\u001b[0m\n\u001b[0;32m     17\u001b[0m     \u001b[1;32mdef\u001b[0m \u001b[0m__execute_query\u001b[0m\u001b[1;33m(\u001b[0m\u001b[0mself\u001b[0m\u001b[1;33m,\u001b[0m \u001b[0mquery\u001b[0m\u001b[1;33m)\u001b[0m\u001b[1;33m:\u001b[0m\u001b[1;33m\u001b[0m\u001b[1;33m\u001b[0m\u001b[0m\n",
      "\u001b[1;32m~\\project_1_stock_portfolio_forecasting\\Code\\configuration.py\u001b[0m in \u001b[0;36mparse\u001b[1;34m(self, filename, section)\u001b[0m\n\u001b[0;32m     37\u001b[0m             \u001b[1;32mreturn\u001b[0m \u001b[1;34mf\"{section}://{user}:{password}@{host}:{port}/{database}\"\u001b[0m\u001b[1;33m\u001b[0m\u001b[1;33m\u001b[0m\u001b[0m\n\u001b[0;32m     38\u001b[0m         \u001b[1;32melse\u001b[0m\u001b[1;33m:\u001b[0m\u001b[1;33m\u001b[0m\u001b[1;33m\u001b[0m\u001b[0m\n\u001b[1;32m---> 39\u001b[1;33m             \u001b[1;32mraise\u001b[0m \u001b[0mException\u001b[0m\u001b[1;33m(\u001b[0m\u001b[1;34mf\"Section '{section}' not found in '{filename}'.\"\u001b[0m\u001b[1;33m)\u001b[0m\u001b[1;33m\u001b[0m\u001b[1;33m\u001b[0m\u001b[0m\n\u001b[0m",
      "\u001b[1;31mException\u001b[0m: Section 'postgresql' not found in 'database.ini'."
     ]
    }
   ],
   "source": [
    "from interface import UserInterface\n",
    "from scipy.optimize import minimize\n",
    "import alpaca_trade_api as tradeapi\n",
    "import ipywidgets as widgets\n",
    "import holoviews as hv\n",
    "import hvplot.pandas\n",
    "import pandas as pd\n",
    "import numpy as np\n",
    "import os"
   ]
  },
  {
   "cell_type": "code",
   "execution_count": null,
   "id": "a4aa30b2",
   "metadata": {},
   "outputs": [],
   "source": [
    "# Create an instance of the UserInterface class\n",
    "interface = UserInterface()"
   ]
  },
  {
   "cell_type": "markdown",
   "id": "da378222",
   "metadata": {},
   "source": [
    " \n",
    "## Login User\n",
    " "
   ]
  },
  {
   "cell_type": "code",
   "execution_count": null,
   "id": "4c6cff1f",
   "metadata": {},
   "outputs": [],
   "source": [
    "user = interface.login_user()"
   ]
  },
  {
   "cell_type": "markdown",
   "id": "11502f6d",
   "metadata": {},
   "source": [
    " \n",
    "## Select Portfolio\n",
    " "
   ]
  },
  {
   "cell_type": "code",
   "execution_count": null,
   "id": "58064939",
   "metadata": {},
   "outputs": [],
   "source": [
    "portfolio = interface.select_portfolio()"
   ]
  },
  {
   "cell_type": "markdown",
   "id": "c598886d",
   "metadata": {},
   "source": [
    "## Get and Display Historical Data"
   ]
  },
  {
   "cell_type": "code",
   "execution_count": null,
   "id": "acc5d2f1",
   "metadata": {},
   "outputs": [],
   "source": [
    "portfolio[\"historical_data\"] = interface.get_historical_data(portfolio)\n",
    "portfolio[\"historical_data\"].head()"
   ]
  },
  {
   "cell_type": "markdown",
   "id": "46775f17",
   "metadata": {},
   "source": [
    "## Calculate and Display Beta Values (Portfolio)"
   ]
  },
  {
   "cell_type": "code",
   "execution_count": null,
   "id": "59d98447",
   "metadata": {},
   "outputs": [],
   "source": [
    "beta_values = interface.calculate_beta_values(portfolio)\n",
    "interface.display_beta_values(beta_values)"
   ]
  },
  {
   "cell_type": "markdown",
   "id": "2298ae67",
   "metadata": {},
   "source": [
    "## Setup and Run Monte Carlo Simulation (Portfolio)"
   ]
  },
  {
   "cell_type": "code",
   "execution_count": null,
   "id": "0f2168cb",
   "metadata": {},
   "outputs": [],
   "source": [
    "simulation = interface.create_simulation(portfolio, simulations=500, years=10)\n",
    "simulation.calc_cumulative_return()"
   ]
  },
  {
   "cell_type": "markdown",
   "id": "779dcddd",
   "metadata": {},
   "source": [
    "## Display Line Plot of Monte Carlo Simulation Results"
   ]
  },
  {
   "cell_type": "code",
   "execution_count": null,
   "id": "bf93087c",
   "metadata": {},
   "outputs": [],
   "source": [
    "simulation.plot_simulation();"
   ]
  },
  {
   "cell_type": "markdown",
   "id": "4f4cf017",
   "metadata": {},
   "source": [
    "## *Simulated* Cumulative Returns for Portfolio"
   ]
  },
  {
   "cell_type": "code",
   "execution_count": null,
   "id": "1345ad0b",
   "metadata": {},
   "outputs": [],
   "source": [
    "portfolio[\"simulated_returns\"] = simulation.summarize_cumulative_return()"
   ]
  },
  {
   "cell_type": "markdown",
   "id": "a2c94c24",
   "metadata": {},
   "source": [
    "## Display Cumulative Returns Summary"
   ]
  },
  {
   "cell_type": "code",
   "execution_count": null,
   "id": "c1c9a94d",
   "metadata": {},
   "outputs": [],
   "source": [
    "print(portfolio[\"simulated_returns\"])"
   ]
  },
  {
   "cell_type": "markdown",
   "id": "dd339b9b",
   "metadata": {},
   "source": [
    "## Display Initial Investment Forecast for Portfolio (Simulation)"
   ]
  },
  {
   "cell_type": "code",
   "execution_count": null,
   "id": "ebfcce8e",
   "metadata": {},
   "outputs": [],
   "source": [
    "interface.display_portfolio_forecast(portfolio)"
   ]
  },
  {
   "cell_type": "markdown",
   "id": "d44ead75",
   "metadata": {
    "tags": []
   },
   "source": [
    "\n",
    "## If you don't like these simulated result, let's continue to see if we can do better..."
   ]
  },
  {
   "cell_type": "markdown",
   "id": "e17533fb",
   "metadata": {},
   "source": [
    "### Lets see how you should invest your money!"
   ]
  },
  {
   "cell_type": "code",
   "execution_count": null,
   "id": "f151ff49",
   "metadata": {},
   "outputs": [],
   "source": [
    "# Define variables needed below\n",
    "start_date = pd.Timestamp(\"2017-11-01\", tz=\"America/Phoenix\").isoformat()\n",
    "end_date = pd.Timestamp(\"2021-11-01\", tz=\"America/Phoenix\").isoformat()\n",
    "amt_to_invest = portfolio[\"investment\"]\n",
    "tickers = portfolio[\"symbols\"]\n",
    "timeframe = \"1D\"\n",
    "\n",
    "alpaca_api_key = os.getenv(\"ALPACA_API_KEY\")\n",
    "alpaca_secret_key = os.getenv(\"ALPACA_SECRET_KEY\")\n",
    "\n",
    "api = tradeapi.REST(\n",
    "    alpaca_api_key,\n",
    "    alpaca_secret_key,\n",
    "    api_version = \"v2\")\n",
    "\n",
    "if 'SPY' not in tickers:\n",
    "    tickers.append('SPY')\n",
    "    \n",
    "# Function to get 3 years worth of historical data \n",
    "def api_get_barset(user_ticker, tm_frame, st_date, e_date):\n",
    "    ticker_data = api.get_barset(\n",
    "        user_ticker,\n",
    "        tm_frame,\n",
    "        start=st_date,\n",
    "        end=e_date,\n",
    "        limit=1000,\n",
    "    ).df\n",
    "\n",
    "    return(ticker_data)\n",
    "    \n",
    "def call_api(user_tickers):\n",
    "    df_list = []\n",
    "\n",
    "    for ticker in user_tickers:\n",
    "        globals()[f\"{ticker}_data\"] = api_get_barset(ticker, timeframe, start_date, end_date)\n",
    "        df_list.append(globals()[f\"{ticker}_data\"])\n",
    "    \n",
    "    return df_list\n",
    "\n",
    "formatted_date_list = []\n",
    "list_close_price_lists = []\n",
    "stock_data_df_list = call_api(tickers)\n",
    "date_list = stock_data_df_list[0].index.tolist()\n",
    "\n",
    "for i, ticker in enumerate(tickers):\n",
    "    globals()[f\"{ticker}_closing_price_list\"] = stock_data_df_list[i][ticker]['close'].to_list()\n",
    "    list_close_price_lists.append(globals()[f\"{ticker}_closing_price_list\"])\n",
    "\n",
    "for date in date_list:\n",
    "    formatted_date_list.append(date.strftime(\"%Y-%m-%d\"))\n",
    "\n",
    "closing_price_dict = dict(zip(tickers, list_close_price_lists))        \n",
    "closing_price_df = pd.DataFrame(closing_price_dict, index=formatted_date_list)\n",
    "closing_price_df.index.name = 'Date'\n",
    "closing_price_df.head()"
   ]
  },
  {
   "cell_type": "markdown",
   "id": "2c5771d2",
   "metadata": {},
   "source": [
    "Mean daily difference - Percentage change between the current and a prior element.\n",
    "\n",
    "Computes the percentage change from the immediately previous row by default. This is useful in comparing the percentage of change in a time series of elements.\n",
    "\n",
    "1 is default, meaning from one day to the next"
   ]
  },
  {
   "cell_type": "code",
   "execution_count": null,
   "id": "04d6983b",
   "metadata": {},
   "outputs": [],
   "source": [
    "mean_daily_diff= closing_price_df.pct_change(1).mean()\n",
    "mean_daily_diff"
   ]
  },
  {
   "cell_type": "code",
   "execution_count": null,
   "id": "719fa265",
   "metadata": {},
   "outputs": [],
   "source": [
    "closing_price_df.pct_change(1).corr()"
   ]
  },
  {
   "cell_type": "markdown",
   "id": "bb368530",
   "metadata": {},
   "source": [
    "Normalizing prices essentially allows you to view the comparison between the portfolio so that day one is effectively set to one for each member of the portfolio so the user is easily able to distinguish performance comparativley over time.\n",
    "\n",
    "Note: need to account for stock splits somehow"
   ]
  },
  {
   "cell_type": "code",
   "execution_count": null,
   "id": "e0121f32",
   "metadata": {},
   "outputs": [],
   "source": [
    "normalized_prices = closing_price_df/closing_price_df.iloc[0]\n",
    "normalized_prices.hvplot()"
   ]
  },
  {
   "cell_type": "code",
   "execution_count": null,
   "id": "3da0d69d",
   "metadata": {},
   "outputs": [],
   "source": [
    "daily_returns = closing_price_df.pct_change(1)\n",
    "daily_returns.dropna(inplace=True)\n",
    "daily_returns.head()"
   ]
  },
  {
   "cell_type": "markdown",
   "id": "5149b5bf",
   "metadata": {},
   "source": [
    "Again, here, research shows that using logarithmic instead of pure returns is an advantageous method of normalizing the comparative items since the purpose of this tool is comparison and optimization."
   ]
  },
  {
   "cell_type": "code",
   "execution_count": null,
   "id": "50180c0f",
   "metadata": {},
   "outputs": [],
   "source": [
    "log_conversion = np.log(closing_price_df/closing_price_df.shift(1))\n",
    "log_conversion.dropna(inplace=True)\n",
    "log_conversion.head()"
   ]
  },
  {
   "cell_type": "code",
   "execution_count": null,
   "id": "30659f23",
   "metadata": {},
   "outputs": [],
   "source": [
    "log_conversion.hvplot.hist(bins=100, subplots=True, width=400, group_label='Ticker', grid=True).cols(2)"
   ]
  },
  {
   "cell_type": "code",
   "execution_count": null,
   "id": "1b7a2486",
   "metadata": {},
   "outputs": [],
   "source": [
    "log_conversion.describe().transpose()"
   ]
  },
  {
   "cell_type": "code",
   "execution_count": null,
   "id": "1b77b5da",
   "metadata": {},
   "outputs": [],
   "source": [
    "log_conversion.mean() * 252"
   ]
  },
  {
   "cell_type": "code",
   "execution_count": null,
   "id": "d08425d5",
   "metadata": {},
   "outputs": [],
   "source": [
    "log_conversion.cov() * 252"
   ]
  },
  {
   "cell_type": "markdown",
   "id": "a111ca18",
   "metadata": {},
   "source": [
    "Instead of setting your own weights let's generate random weights for our starting point in this analysis:"
   ]
  },
  {
   "cell_type": "code",
   "execution_count": null,
   "id": "04edca11",
   "metadata": {},
   "outputs": [],
   "source": [
    "weights = np.array(np.random.random(len(tickers)))"
   ]
  },
  {
   "cell_type": "markdown",
   "id": "8287d15f",
   "metadata": {},
   "source": [
    "Then, set the weights so that they equal one (1.0) for the number of stocks the user is evaluating"
   ]
  },
  {
   "cell_type": "code",
   "execution_count": null,
   "id": "826af35c",
   "metadata": {},
   "outputs": [],
   "source": [
    "weights = weights / np.sum(weights)"
   ]
  },
  {
   "cell_type": "markdown",
   "id": "81c72430",
   "metadata": {},
   "source": [
    "Next, determine expected return for the random weights"
   ]
  },
  {
   "cell_type": "code",
   "execution_count": null,
   "id": "2ee88911",
   "metadata": {},
   "outputs": [],
   "source": [
    "expected_returns = np.sum(log_conversion.mean() * weights) * 252"
   ]
  },
  {
   "cell_type": "markdown",
   "id": "b3727a76",
   "metadata": {},
   "source": [
    "Next, search Google to find out how to calculate predicted volatility"
   ]
  },
  {
   "cell_type": "code",
   "execution_count": null,
   "id": "144f33ca",
   "metadata": {},
   "outputs": [],
   "source": [
    "expected_volatility = np.sqrt(np.dot(weights.T, np.dot(log_conversion.cov() * 252, weights)))"
   ]
  },
  {
   "cell_type": "markdown",
   "id": "1143d0ea",
   "metadata": {},
   "source": [
    "Use expected returns and expected volatility to find Sharpe Ratio"
   ]
  },
  {
   "cell_type": "code",
   "execution_count": null,
   "id": "b0025545",
   "metadata": {},
   "outputs": [],
   "source": [
    "sharpe_ratio = expected_returns/expected_volatility"
   ]
  },
  {
   "cell_type": "code",
   "execution_count": null,
   "id": "68396263",
   "metadata": {},
   "outputs": [],
   "source": [
    "investment_break_down = []\n",
    "for weight, ticker in zip(weights, tickers):\n",
    "    weighted_investment = float(amt_to_invest) * weight\n",
    "    formatted_float = \"{:.2f}\".format(weighted_investment)\n",
    "    print(f'For {ticker}, according to this randomly generated model, you should invest ${formatted_float}...')"
   ]
  },
  {
   "cell_type": "markdown",
   "id": "18c667c5",
   "metadata": {},
   "source": [
    "Let's run 10000 simulations based on what we just did to see how this will look:"
   ]
  },
  {
   "cell_type": "code",
   "execution_count": null,
   "id": "9a983332",
   "metadata": {},
   "outputs": [],
   "source": [
    "simulations = 10000"
   ]
  },
  {
   "cell_type": "markdown",
   "id": "82896a90",
   "metadata": {},
   "source": [
    "Numpy.zeros takes an input (size) and fills it with zeros - in this case making new numpy arrays filled with zeros to be looped through"
   ]
  },
  {
   "cell_type": "code",
   "execution_count": null,
   "id": "0e4289c9",
   "metadata": {},
   "outputs": [],
   "source": [
    "new_weights = np.zeros((simulations,len(closing_price_df.columns)))\n",
    "user_returns = np.zeros(simulations)\n",
    "volatility = np.zeros(simulations)\n",
    "new_sharpe_ratio = np.zeros(simulations)"
   ]
  },
  {
   "cell_type": "code",
   "execution_count": null,
   "id": "30c6bcf7",
   "metadata": {},
   "outputs": [],
   "source": [
    "for sim in range(simulations):    \n",
    "    weights = np.array(np.random.random(len(tickers)))\n",
    "    weights = weights / np.sum(weights)\n",
    "    new_weights[sim,:] = weights\n",
    "    user_returns[sim] = np.sum((log_conversion.mean() * weights) *252)\n",
    "    volatility[sim] = np.sqrt(np.dot(weights.T, np.dot(log_conversion.cov() * 252, weights)))\n",
    "    new_sharpe_ratio[sim] = user_returns[sim]/volatility[sim]"
   ]
  },
  {
   "cell_type": "markdown",
   "id": "23ad30c3",
   "metadata": {},
   "source": [
    "Find the max sharpe ratio"
   ]
  },
  {
   "cell_type": "code",
   "execution_count": null,
   "id": "bf4bb74b",
   "metadata": {},
   "outputs": [],
   "source": [
    "new_sharpe_ratio.max()"
   ]
  },
  {
   "cell_type": "code",
   "execution_count": null,
   "id": "e086f897",
   "metadata": {},
   "outputs": [],
   "source": [
    "sharpe_max_sim_count = new_sharpe_ratio.argmax()"
   ]
  },
  {
   "cell_type": "markdown",
   "id": "72e5490c",
   "metadata": {},
   "source": [
    "Find the weights for the simulation in which the highest Sharpe Ratio occurred"
   ]
  },
  {
   "cell_type": "code",
   "execution_count": null,
   "id": "2ca13a98",
   "metadata": {},
   "outputs": [],
   "source": [
    "new_weights[sharpe_max_sim_count,:]"
   ]
  },
  {
   "cell_type": "code",
   "execution_count": null,
   "id": "1243753b",
   "metadata": {},
   "outputs": [],
   "source": [
    "max_weight_sim = new_weights[sharpe_max_sim_count,:]"
   ]
  },
  {
   "cell_type": "code",
   "execution_count": null,
   "id": "13e59398",
   "metadata": {},
   "outputs": [],
   "source": [
    "max_returns = user_returns[sharpe_max_sim_count]\n",
    "max_return_volatility = volatility[sharpe_max_sim_count]"
   ]
  },
  {
   "cell_type": "code",
   "execution_count": null,
   "id": "4046c928",
   "metadata": {},
   "outputs": [],
   "source": [
    "print(max_returns)\n",
    "print(max_return_volatility)"
   ]
  },
  {
   "cell_type": "code",
   "execution_count": null,
   "id": "6774f105",
   "metadata": {},
   "outputs": [],
   "source": [
    "scatter = hv.Scatter((volatility, user_returns, new_sharpe_ratio), 'Volatility', ['Return', 'Sharpe Ratio'])\n",
    "max_sharpe = hv.Scatter([(max_return_volatility,max_returns)])\n",
    "\n",
    "scatter.opts(color='Sharpe Ratio', cmap='plasma', width=600, height=400, colorbar=True, padding=0.1) *\\\n",
    "max_sharpe.opts(color='red', line_color='black', size=10)"
   ]
  },
  {
   "cell_type": "code",
   "execution_count": null,
   "id": "4341810e",
   "metadata": {},
   "outputs": [],
   "source": [
    "investment_break_down = []\n",
    "for weight, ticker in zip(max_weight_sim, tickers):\n",
    "    sim_weighted_investment = float(amt_to_invest) * weight\n",
    "    formatted_float = \"{:.2f}\".format(sim_weighted_investment)\n",
    "    print(f'For {ticker}, according to this model, you should invest ${formatted_float}...')"
   ]
  },
  {
   "cell_type": "markdown",
   "id": "62c18760",
   "metadata": {},
   "source": [
    "For the final component, we optimize the weights mathmathically using Scipy:"
   ]
  },
  {
   "cell_type": "code",
   "execution_count": null,
   "id": "2f06fe48",
   "metadata": {},
   "outputs": [],
   "source": [
    "# returns weighted Returns Volatility and Sharpe Ratio\n",
    "def apply_weights(weights):\n",
    "    weights = np.array(weights)\n",
    "    rtn = np.sum(log_conversion.mean() * weights) * 252\n",
    "    vola = np.sqrt(np.dot(weights.T, np.dot(log_conversion.cov() * 252, weights)))\n",
    "    sharpe = rtn/vola\n",
    "    return np.array([rtn,vola,sharpe])"
   ]
  },
  {
   "cell_type": "markdown",
   "id": "d4a41418",
   "metadata": {},
   "source": [
    "https://en.wikipedia.org/wiki/Mathematical_optimization"
   ]
  },
  {
   "cell_type": "code",
   "execution_count": null,
   "id": "2c218ff2",
   "metadata": {},
   "outputs": [],
   "source": [
    "# minimize the negative Share Ratio\n",
    "def minimized_sharpe(weights):\n",
    "    return apply_weights(weights)[2] * -1"
   ]
  },
  {
   "cell_type": "code",
   "execution_count": null,
   "id": "011cd515",
   "metadata": {},
   "outputs": [],
   "source": [
    "# should equal zero assuming the weights are 1\n",
    "def verify_weight(weights):\n",
    "    return np.sum(weights) - 1"
   ]
  },
  {
   "cell_type": "code",
   "execution_count": null,
   "id": "36914bc1",
   "metadata": {},
   "outputs": [],
   "source": [
    "# a minimizing function is a function returning 0, generally\n",
    "conditions = ({'type':'eq','fun': verify_weight})"
   ]
  },
  {
   "cell_type": "code",
   "execution_count": null,
   "id": "900287ad",
   "metadata": {},
   "outputs": [],
   "source": [
    "# all bounds will be between 0 and 1\n",
    "\n",
    "bounds = []\n",
    "\n",
    "for x in range(len(tickers)):\n",
    "    bounds.append((0,1))\n",
    "bounds = tuple(bounds)"
   ]
  },
  {
   "cell_type": "code",
   "execution_count": null,
   "id": "b29400db",
   "metadata": {},
   "outputs": [],
   "source": [
    "# assume equal distribution in portfolio\n",
    "distro = []\n",
    "assumed_distro = 1/len(tickers)\n",
    "for x in range(len(tickers)):\n",
    "    distro.append(assumed_distro)\n",
    "print(distro)"
   ]
  },
  {
   "cell_type": "code",
   "execution_count": null,
   "id": "c815e251",
   "metadata": {},
   "outputs": [],
   "source": [
    "# Sequential Least SUuares Programming (SLSQP)\n",
    "optimization = minimize(minimized_sharpe,distro,method='SLSQP',bounds=bounds,constraints=conditions)"
   ]
  },
  {
   "cell_type": "code",
   "execution_count": null,
   "id": "7c394773",
   "metadata": {},
   "outputs": [],
   "source": [
    "frontier_y = np.linspace(0,0.3,100)"
   ]
  },
  {
   "cell_type": "code",
   "execution_count": null,
   "id": "b21106ef",
   "metadata": {},
   "outputs": [],
   "source": [
    "def minimize_volatility(weights):\n",
    "    return  apply_weights(weights)[1] "
   ]
  },
  {
   "cell_type": "code",
   "execution_count": null,
   "id": "0400c468",
   "metadata": {},
   "outputs": [],
   "source": [
    "frontier_volatility = []\n",
    "\n",
    "for possible_return in frontier_y:\n",
    "    # function for return\n",
    "    cons = ({'type':'eq','fun': verify_weight},\n",
    "            {'type':'eq','fun': lambda w: apply_weights(w)[0] - possible_return})\n",
    "    \n",
    "    result = minimize(minimize_volatility,distro,method='SLSQP',bounds=bounds,constraints=conditions)\n",
    "    \n",
    "    frontier_volatility.append(result['fun'])"
   ]
  },
  {
   "cell_type": "code",
   "execution_count": null,
   "id": "bad5e069",
   "metadata": {},
   "outputs": [],
   "source": [
    "scatter * hv.Curve((frontier_volatility, frontier_y)).opts(color='green', line_dash='dashed',title='Efficient Frontier')"
   ]
  },
  {
   "cell_type": "code",
   "execution_count": null,
   "id": "69f5853e",
   "metadata": {},
   "outputs": [],
   "source": [
    "label_selected = widgets.Label(value=\"Selected: 0\")\n",
    "label_selected"
   ]
  },
  {
   "cell_type": "code",
   "execution_count": null,
   "id": "dd00bf2b",
   "metadata": {},
   "outputs": [],
   "source": [
    "fig = log_conversion.hvplot.hist(bins=100, subplots=True, width=400, group_label='Ticker', grid=True).cols(2)\n",
    "display(fig)"
   ]
  },
  {
   "cell_type": "code",
   "execution_count": null,
   "id": "fc6db191",
   "metadata": {},
   "outputs": [],
   "source": [
    "fig = scatter * hv.Curve((frontier_volatility, frontier_y)).opts(color='green', line_dash='dashed')\n",
    "display(fig)"
   ]
  },
  {
   "cell_type": "code",
   "execution_count": null,
   "id": "7c0c7882",
   "metadata": {},
   "outputs": [],
   "source": [
    "fig = scatter = hv.Scatter((volatility, user_returns, new_sharpe_ratio), 'Volatility', ['Return', 'Sharpe Ratio'])\n",
    "max_sharpe = hv.Scatter([(max_return_volatility,max_returns)])\n",
    "scatter.opts(color='Sharpe Ratio', cmap='plasma', width=600, height=400, colorbar=True, padding=0.1) *\\\n",
    "max_sharpe.opts(color='red', line_color='black', size=10)\n",
    "display(fig)"
   ]
  }
 ],
 "metadata": {
  "kernelspec": {
   "display_name": "Python 3",
   "language": "python",
   "name": "python3"
  },
  "language_info": {
   "codemirror_mode": {
    "name": "ipython",
    "version": 3
   },
   "file_extension": ".py",
   "mimetype": "text/x-python",
   "name": "python",
   "nbconvert_exporter": "python",
   "pygments_lexer": "ipython3",
   "version": "3.8.8"
  }
 },
 "nbformat": 4,
 "nbformat_minor": 5
}
